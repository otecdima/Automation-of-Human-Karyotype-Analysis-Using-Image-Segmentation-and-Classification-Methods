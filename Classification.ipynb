{
  "nbformat": 4,
  "nbformat_minor": 0,
  "metadata": {
    "colab": {
      "provenance": [],
      "gpuType": "T4"
    },
    "kernelspec": {
      "name": "python3",
      "display_name": "Python 3"
    },
    "language_info": {
      "name": "python"
    },
    "accelerator": "GPU"
  },
  "cells": [
    {
      "cell_type": "markdown",
      "source": [
        "# Automation of human karyotype analysis using image segmentation and classification methods. Classification"
      ],
      "metadata": {
        "id": "jQftMV5ycQ7B"
      }
    },
    {
      "cell_type": "code",
      "execution_count": null,
      "metadata": {
        "id": "ddxggM7NtLJV"
      },
      "outputs": [],
      "source": [
        "!gdown 1fUWGsTT9GMmQXt9NGqIcmLgaRyWMbWzg"
      ]
    },
    {
      "cell_type": "code",
      "source": [
        "!unzip /content/Data.zip"
      ],
      "metadata": {
        "id": "okCzAzb_tPST"
      },
      "execution_count": null,
      "outputs": []
    },
    {
      "cell_type": "code",
      "source": [
        "import os\n",
        "import glob\n",
        "import random\n",
        "import xml.etree.ElementTree as ET\n",
        "from PIL import Image\n",
        "import torch\n",
        "import torch.nn as nn\n",
        "import torch.optim as optim\n",
        "from torch.utils.data import Dataset, DataLoader, random_split\n",
        "import torchvision.transforms as transforms\n",
        "import torchvision.models as models\n",
        "from torchvision.datasets import ImageFolder\n",
        "\n",
        "device = torch.device('cuda' if torch.cuda.is_available() else 'cpu')\n",
        "print(device)"
      ],
      "metadata": {
        "id": "8gfrJyuxrY_N"
      },
      "execution_count": null,
      "outputs": []
    },
    {
      "cell_type": "code",
      "source": [
        "xml_folder = '/content/Data/24_chromosomes_object/annotations'\n",
        "image_folder = '/content/Data/24_chromosomes_object/JEPG'\n",
        "output_folder = '/content/Data/24_chromosomes_cropped'\n",
        "\n",
        "if not os.path.exists(output_folder):\n",
        "    os.makedirs(output_folder)\n",
        "\n",
        "for xml_file in os.listdir(xml_folder):\n",
        "    if not xml_file.endswith('.xml'):\n",
        "        continue\n",
        "\n",
        "    xml_path = os.path.join(xml_folder, xml_file)\n",
        "    tree = ET.parse(xml_path)\n",
        "    root = tree.getroot()\n",
        "\n",
        "    filename = root.find('filename').text\n",
        "    image_path = os.path.join(image_folder, filename)\n",
        "    if not os.path.exists(image_path):\n",
        "        print(f\"Image not found: {image_path}\")\n",
        "        continue\n",
        "\n",
        "    img = Image.open(image_path).convert('RGB')\n",
        "\n",
        "    for obj in root.findall('object'):\n",
        "        label = obj.find('name').text\n",
        "        bbox = obj.find('bndbox')\n",
        "        xmin = int(bbox.find('xmin').text)\n",
        "        ymin = int(bbox.find('ymin').text)\n",
        "        xmax = int(bbox.find('xmax').text)\n",
        "        ymax = int(bbox.find('ymax').text)\n",
        "\n",
        "        cropped = img.crop((xmin, ymin, xmax, ymax))\n",
        "\n",
        "        label_folder = os.path.join(output_folder, label)\n",
        "        if not os.path.exists(label_folder):\n",
        "            os.makedirs(label_folder)\n",
        "\n",
        "        base_name = os.path.splitext(filename)[0]\n",
        "        cropped_filename = f\"{base_name}_{xmin}_{ymin}_{xmax}_{ymax}.jpg\"\n",
        "        cropped.save(os.path.join(label_folder, cropped_filename))"
      ],
      "metadata": {
        "id": "fm2nUpvtunP8"
      },
      "execution_count": null,
      "outputs": []
    },
    {
      "cell_type": "code",
      "source": [
        "transform = transforms.Compose([\n",
        "    transforms.Resize((224, 224)),\n",
        "    transforms.ToTensor(),\n",
        "    transforms.Normalize([0.485, 0.456, 0.406],\n",
        "                         [0.229, 0.224, 0.225])])\n",
        "\n",
        "dataset = ImageFolder(root=output_folder, transform=transform)\n",
        "\n",
        "print(\"Number of classes:\", len(dataset.classes))\n",
        "print(\"Classes:\", dataset.classes)\n",
        "\n",
        "train_size = int(0.8 * len(dataset))\n",
        "val_size = len(dataset) - train_size\n",
        "train_dataset, val_dataset = random_split(dataset, [train_size, val_size])\n",
        "\n",
        "batch_size = 16\n",
        "\n",
        "train_loader = DataLoader(train_dataset, batch_size=batch_size, shuffle=True, num_workers=2)\n",
        "val_loader = DataLoader(val_dataset, batch_size=batch_size, shuffle=False, num_workers=2)\n",
        "\n",
        "print(f\"Train samples: {len(train_dataset)}, Validation samples: {len(val_dataset)}\")"
      ],
      "metadata": {
        "id": "TvdX3JqBun2U"
      },
      "execution_count": null,
      "outputs": []
    },
    {
      "cell_type": "code",
      "source": [
        "model = models.resnet18(pretrained=True)\n",
        "\n",
        "num_classes = len(dataset.classes)\n",
        "in_features = model.fc.in_features\n",
        "model.fc = nn.Linear(in_features, num_classes)\n",
        "\n",
        "model = model.to(device)\n",
        "\n",
        "criterion = nn.CrossEntropyLoss()\n",
        "optimizer = optim.Adam(model.parameters(), lr=1e-4)\n",
        "\n",
        "num_epochs = 5\n",
        "\n",
        "for epoch in range(num_epochs):\n",
        "    model.train()\n",
        "    running_loss = 0.0\n",
        "    correct = 0\n",
        "    total = 0\n",
        "\n",
        "    for images, labels in train_loader:\n",
        "        images = images.to(device)\n",
        "        labels = labels.to(device)\n",
        "\n",
        "        optimizer.zero_grad()\n",
        "        outputs = model(images)\n",
        "        loss = criterion(outputs, labels)\n",
        "        loss.backward()\n",
        "        optimizer.step()\n",
        "\n",
        "        running_loss += loss.item() * images.size(0)\n",
        "        _, predicted = torch.max(outputs, 1)\n",
        "        total += labels.size(0)\n",
        "        correct += (predicted == labels).sum().item()\n",
        "\n",
        "    epoch_loss = running_loss / total\n",
        "    epoch_acc = 100.0 * correct / total\n",
        "    print(f\"Epoch [{epoch+1}/{num_epochs}], Loss: {epoch_loss:.4f}, Accuracy: {epoch_acc:.2f}%\")\n",
        "\n",
        "    model.eval()\n",
        "    val_loss = 0.0\n",
        "    val_correct = 0\n",
        "    val_total = 0\n",
        "    with torch.no_grad():\n",
        "        for images, labels in val_loader:\n",
        "            images = images.to(device)\n",
        "            labels = labels.to(device)\n",
        "\n",
        "            outputs = model(images)\n",
        "            loss = criterion(outputs, labels)\n",
        "\n",
        "            val_loss += loss.item() * images.size(0)\n",
        "            _, predicted = torch.max(outputs, 1)\n",
        "            val_total += labels.size(0)\n",
        "            val_correct += (predicted == labels).sum().item()\n",
        "\n",
        "    val_loss /= val_total\n",
        "    val_acc = 100.0 * val_correct / val_total\n",
        "    print(f\"Validation Loss: {val_loss:.4f}, Validation Accuracy: {val_acc:.2f}%\\n\")\n"
      ],
      "metadata": {
        "id": "smDPcYkQuquD"
      },
      "execution_count": null,
      "outputs": []
    },
    {
      "cell_type": "code",
      "source": [
        "def classify_chromosome(model, image_path, transform, device, class_names):\n",
        "    model.eval()\n",
        "    img = Image.open(image_path).convert('RGB')\n",
        "    img_t = transform(img).unsqueeze(0).to(device)\n",
        "\n",
        "    with torch.no_grad():\n",
        "        outputs = model(img_t)\n",
        "        _, predicted = torch.max(outputs, 1)\n",
        "        predicted_class = class_names[predicted.item()]\n",
        "    return predicted_class\n",
        "\n",
        "test_image_path = '/content/Screenshot 2025-03-27 at 11.44.07.png'\n",
        "\n",
        "predicted_label = classify_chromosome(model, test_image_path, transform, device, dataset.classes)\n",
        "print(\"Predicted label:\", predicted_label)\n",
        "img = Image.open(\"/content/Screenshot 2025-03-27 at 11.44.07.png\").convert('RGB')\n",
        "img"
      ],
      "metadata": {
        "id": "l-h9VQWWuteT"
      },
      "execution_count": null,
      "outputs": []
    },
    {
      "cell_type": "code",
      "source": [
        "img = Image.open(\"/content/Data/24_chromosomes_object/JEPG/103064.jpg\").convert('RGB')\n",
        "cropped = img.crop((285, 43, 351, 119))\n",
        "cropped"
      ],
      "metadata": {
        "id": "mq81gSON_ca8"
      },
      "execution_count": null,
      "outputs": []
    },
    {
      "cell_type": "code",
      "source": [
        "img = Image.open(\"/content/Data/24_chromosomes_object/JEPG/103064.jpg\").convert('RGB')\n",
        "cropped = img.crop((102, 88, 175, 152))\n",
        "cropped"
      ],
      "metadata": {
        "id": "MDlgGCqG_6CQ"
      },
      "execution_count": null,
      "outputs": []
    }
  ]
}